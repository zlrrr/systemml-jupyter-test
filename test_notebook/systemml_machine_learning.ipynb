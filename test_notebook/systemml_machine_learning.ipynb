{
 "cells": [
  {
   "cell_type": "markdown",
   "metadata": {},
   "source": [
    "# Systemml Machine Leanring API"
   ]
  },
  {
   "cell_type": "markdown",
   "metadata": {},
   "source": [
    "    目前实现的算法有多项式逻辑回归，支持向量机，朴素贝叶斯等。后续可以补充的算法包括决策树，随机森林和k-means算法等"
   ]
  },
  {
   "cell_type": "markdown",
   "metadata": {},
   "source": [
    "## 1. Classification  分类"
   ]
  },
  {
   "cell_type": "markdown",
   "metadata": {},
   "source": [
    "### 1.1 Multinomial Logistic Regression 多项式逻辑回归"
   ]
  },
  {
   "cell_type": "code",
   "execution_count": 1,
   "metadata": {},
   "outputs": [],
   "source": [
    "#导入库\n",
    "from sklearn import datasets, neighbors\n",
    "\n",
    "from systemml.mllearn import LogisticRegression\n",
    "\n",
    "from pyspark.sql import SQLContext\n"
   ]
  },
  {
   "cell_type": "code",
   "execution_count": 3,
   "metadata": {
    "collapsed": true
   },
   "outputs": [
    {
     "name": "stdout",
     "output_type": "stream",
     "text": [
      "\n",
      "Welcome to Apache SystemML!\n",
      "Version 1.2.0\n",
      "ANTLR Tool version 4.5.3 used for code generation does not match the current runtime version 4.7ANTLR Runtime version 4.5.3 used for parser compilation does not match the current runtime version 4.7ANTLR Tool version 4.5.3 used for code generation does not match the current runtime version 4.7ANTLR Runtime version 4.5.3 used for parser compilation does not match the current runtime version 4.7\n",
      "BEGIN MULTINOMIAL LOGISTIC REGRESSION SCRIPT\n",
      "Reading X...\n",
      "Reading Y...\n",
      "-- Initially:  Objective = 3723.280095371372,  Gradient Norm = 11081.24476942911,  Trust Delta = 0.05259684713199148\n",
      "-- Outer Iteration 1: Had 1 CG iterations, trust bound REACHED\n",
      "   -- Obj.Reduction:  Actual = 550.256638646606,  Predicted = 551.2322865003537  (A/P: 0.9982),  Trust Delta = 0.2103873885279659\n",
      "   -- New Objective = 3173.023456724766,  Beta Change Norm = 0.052596847131991475,  Gradient Norm = 9930.304491370562\n",
      " \n",
      "-- Outer Iteration 2: Had 1 CG iterations, trust bound REACHED\n",
      "   -- Obj.Reduction:  Actual = 1447.8065089161228,  Predicted = 1525.5023379737563  (A/P: 0.9491),  Trust Delta = 0.3426416041541345\n",
      "   -- New Objective = 1725.2169478086435,  Beta Change Norm = 0.21038738852796587,  Gradient Norm = 8689.678036911222\n",
      " \n",
      "-- Outer Iteration 3: Had 6 CG iterations, trust bound REACHED\n",
      "   -- Obj.Reduction:  Actual = 1032.1898269992362,  Predicted = 909.0047064111488  (A/P: 1.1355),  Trust Delta = 0.4154229472684944\n",
      "   -- New Objective = 693.0271208094072,  Beta Change Norm = 0.3426416041541345,  Gradient Norm = 2399.8032062705406\n",
      " \n",
      "-- Outer Iteration 4: Had 10 CG iterations, trust bound REACHED\n",
      "   -- Obj.Reduction:  Actual = 357.40810140047125,  Predicted = 289.7882196619653  (A/P: 1.2333),  Trust Delta = 0.5487544478196409\n",
      "   -- New Objective = 335.6190194089359,  Beta Change Norm = 0.4154229472684944,  Gradient Norm = 963.2459469892552\n",
      " \n",
      "-- Outer Iteration 5: Had 15 CG iterations, trust bound REACHED\n",
      "   -- Obj.Reduction:  Actual = 161.3876780810655,  Predicted = 126.81450548661488  (A/P: 1.2726),  Trust Delta = 0.759149228584593\n",
      "   -- New Objective = 174.2313413278704,  Beta Change Norm = 0.5487544478196409,  Gradient Norm = 395.94212861027813\n",
      " \n",
      "-- Outer Iteration 6: Had 19 CG iterations, trust bound REACHED\n",
      "   -- Obj.Reduction:  Actual = 85.48108144448945,  Predicted = 66.60953190127833  (A/P: 1.2833),  Trust Delta = 1.0654753492333706\n",
      "   -- New Objective = 88.75025988338096,  Beta Change Norm = 0.759149228584593,  Gradient Norm = 165.25663204085612\n",
      " \n",
      "-- Outer Iteration 7: Had 28 CG iterations\n",
      "   -- Obj.Reduction:  Actual = 43.738303796762764,  Predicted = 34.290699035229345  (A/P: 1.2755),  Trust Delta = 1.3582265549336636\n",
      "   -- New Objective = 45.0119560866182,  Beta Change Norm = 0.9841011862060969,  Gradient Norm = 72.79335130823931\n",
      " \n",
      "-- Outer Iteration 8: Had 29 CG iterations\n",
      "   -- Obj.Reduction:  Actual = 18.17550506306053,  Predicted = 14.393416759027234  (A/P: 1.2628),  Trust Delta = 1.3582265549336636\n",
      "   -- New Objective = 26.836451023557668,  Beta Change Norm = 0.9287487954633968,  Gradient Norm = 29.43480175321298\n",
      " \n",
      "-- Outer Iteration 9: Had 28 CG iterations\n",
      "   -- Obj.Reduction:  Actual = 5.945079064830207,  Predicted = 4.885149929571665  (A/P: 1.217),  Trust Delta = 1.3582265549336636\n",
      "   -- New Objective = 20.89137195872746,  Beta Change Norm = 0.7722012005287122,  Gradient Norm = 11.27915850446483\n",
      " \n",
      "-- Outer Iteration 10: Had 27 CG iterations\n",
      "   -- Obj.Reduction:  Actual = 1.2260427630938118,  Predicted = 1.0483568829158763  (A/P: 1.1695),  Trust Delta = 1.3582265549336636\n",
      "   -- New Objective = 19.66532919563365,  Beta Change Norm = 0.44265039052923894,  Gradient Norm = 3.4919456384506495\n",
      " \n",
      "-- Outer Iteration 11: Had 71 CG iterations, trust bound REACHED\n",
      "   -- Obj.Reduction:  Actual = 0.258473810076957,  Predicted = 0.23545753516007908  (A/P: 1.0978),  Trust Delta = 1.5122962631027443\n",
      "   -- New Objective = 19.406855385556693,  Beta Change Norm = 1.3582265549336638,  Gradient Norm = 1.4874843889253209\n",
      " \n",
      "-- Outer Iteration 12: Had 71 CG iterations, trust bound REACHED\n",
      "   -- Obj.Reduction:  Actual = 0.11577975446661881,  Predicted = 0.11429343850716293  (A/P: 1.013),  Trust Delta = 1.5494825387871252\n",
      "   -- New Objective = 19.291075631090074,  Beta Change Norm = 1.5122962631027443,  Gradient Norm = 1.099104445081859\n",
      " \n",
      "-- Outer Iteration 13: Had 77 CG iterations, trust bound REACHED\n",
      "   -- Obj.Reduction:  Actual = 0.08581388687471048,  Predicted = 0.08453926068150644  (A/P: 1.0151),  Trust Delta = 1.6342922534638578\n",
      "   -- New Objective = 19.205261744215363,  Beta Change Norm = 1.5494825387871252,  Gradient Norm = 0.7841031510782008\n",
      " \n",
      "-- Outer Iteration 14: Had 80 CG iterations, trust bound REACHED\n",
      "   -- Obj.Reduction:  Actual = 0.06350145112809358,  Predicted = 0.06301406729374018  (A/P: 1.0077),  Trust Delta = 1.6993616599878094\n",
      "   -- New Objective = 19.14176029308727,  Beta Change Norm = 1.6342922534638578,  Gradient Norm = 1.082055548843259\n",
      " \n",
      "-- Outer Iteration 15: Had 85 CG iterations, trust bound REACHED\n",
      "   -- Obj.Reduction:  Actual = 0.053997687195426636,  Predicted = 0.0541454176382337  (A/P: 0.9973),  Trust Delta = 1.764127920726937\n",
      "   -- New Objective = 19.087762605891843,  Beta Change Norm = 1.6993616599878096,  Gradient Norm = 1.1932668481460111\n",
      " \n",
      "-- Outer Iteration 16: Had 42 CG iterations\n",
      "   -- Obj.Reduction:  Actual = 0.0201921519081516,  Predicted = 0.019759138607132503  (A/P: 1.0219),  Trust Delta = 1.764127920726937\n",
      "   -- New Objective = 19.06757045398369,  Beta Change Norm = 0.13079843951828823,  Gradient Norm = 0.1281415543807301\n",
      " \n",
      "-- Outer Iteration 17: Had 54 CG iterations, trust bound REACHED\n",
      "   -- Obj.Reduction:  Actual = 0.02461944810463379,  Predicted = 0.024497622861019874  (A/P: 1.005),  Trust Delta = 1.805686918552799\n",
      "   -- New Objective = 19.042951005879058,  Beta Change Norm = 1.764127920726937,  Gradient Norm = 1.5981885563824298\n",
      " \n",
      "-- Outer Iteration 18: Had 37 CG iterations\n",
      "   -- Obj.Reduction:  Actual = 0.016995635836778433,  Predicted = 0.01693979014010808  (A/P: 1.0033),  Trust Delta = 1.805686918552799\n",
      "   -- New Objective = 19.02595537004228,  Beta Change Norm = 0.12693401730019852,  Gradient Norm = 0.14553647478678067\n",
      " \n",
      "-- Outer Iteration 19: Had 67 CG iterations, trust bound REACHED\n",
      "   -- Obj.Reduction:  Actual = 0.020035048176353598,  Predicted = 0.019931137154582522  (A/P: 1.0052),  Trust Delta = 1.8783130852513574\n",
      "   -- New Objective = 19.005920321865926,  Beta Change Norm = 1.805686918552799,  Gradient Norm = 0.43871663284805085\n",
      " \n",
      "-- Outer Iteration 20: Had 90 CG iterations, trust bound REACHED\n",
      "   -- Obj.Reduction:  Actual = 0.028408090770422945,  Predicted = 0.028470549721914006  (A/P: 0.9978),  Trust Delta = 1.9410598535369854\n",
      "   -- New Objective = 18.977512231095503,  Beta Change Norm = 1.8783130852513574,  Gradient Norm = 0.5398303887210026\n",
      " \n",
      "-- Outer Iteration 21: Had 39 CG iterations\n",
      "   -- Obj.Reduction:  Actual = 0.00929695557136867,  Predicted = 0.009252216638888956  (A/P: 1.0048),  Trust Delta = 1.9410598535369854\n",
      "   -- New Objective = 18.968215275524134,  Beta Change Norm = 0.08162623343241801,  Gradient Norm = 0.06434687773688463\n",
      " \n",
      "-- Outer Iteration 22: Had 68 CG iterations, trust bound REACHED\n",
      "   -- Obj.Reduction:  Actual = 0.011194569054140402,  Predicted = 0.011132101774107242  (A/P: 1.0056),  Trust Delta = 1.9523316170607843\n",
      "   -- New Objective = 18.957020706469994,  Beta Change Norm = 1.9410598535369854,  Gradient Norm = 0.7915387640410458\n",
      " \n",
      "-- Outer Iteration 23: Had 37 CG iterations\n",
      "   -- Obj.Reduction:  Actual = 0.006957848347113327,  Predicted = 0.006985703586666411  (A/P: 0.996),  Trust Delta = 1.9523316170607843\n",
      "   -- New Objective = 18.95006285812288,  Beta Change Norm = 0.06527800258622572,  Gradient Norm = 0.06790733644734803\n",
      " \n",
      "-- Outer Iteration 24: Had 77 CG iterations, trust bound REACHED\n",
      "   -- Obj.Reduction:  Actual = 0.007794383759513579,  Predicted = 0.007813191938308216  (A/P: 0.9976),  Trust Delta = 2.0208435672713145\n",
      "   -- New Objective = 18.942268474363367,  Beta Change Norm = 1.9523316170607843,  Gradient Norm = 0.63680064123822\n",
      " \n",
      "-- Outer Iteration 25: Had 29 CG iterations\n",
      "   -- Obj.Reduction:  Actual = 0.003587931242570619,  Predicted = 0.0035606333165183386  (A/P: 1.0077),  Trust Delta = 2.0208435672713145\n",
      "   -- New Objective = 18.938680543120796,  Beta Change Norm = 0.04130426152694077,  Gradient Norm = 0.06335463171310049\n",
      " \n",
      "-- Outer Iteration 26: Had 91 CG iterations, trust bound REACHED\n",
      "   -- Obj.Reduction:  Actual = 0.004316174125477801,  Predicted = 0.00431189326722315  (A/P: 1.001),  Trust Delta = 2.0331595336402493\n",
      "   -- New Objective = 18.93436436899532,  Beta Change Norm = 2.0208435672713145,  Gradient Norm = 0.6792546014672203\n",
      " \n",
      "-- Outer Iteration 27: Had 23 CG iterations\n",
      "   -- Obj.Reduction:  Actual = 8.428731279401802E-4,  Predicted = 8.414595661361826E-4  (A/P: 1.0017),  Trust Delta = 2.0331595336402493\n",
      "   -- New Objective = 18.933521495867378,  Beta Change Norm = 0.025924352169640792,  Gradient Norm = 0.05605623373410935\n",
      " \n"
     ]
    },
    {
     "name": "stdout",
     "output_type": "stream",
     "text": [
      "-- Outer Iteration 28: Had 117 CG iterations\n",
      "   -- Obj.Reduction:  Actual = 2.4146654140722035E-4,  Predicted = 2.41499952975292E-4  (A/P: 0.9999),  Trust Delta = 2.0331595336402493\n",
      "   -- New Objective = 18.93328002932597,  Beta Change Norm = 0.21193653126927525,  Gradient Norm = 0.005312426035103522\n",
      "Termination / Convergence condition satisfied.\n",
      "SystemML Statistics:\n",
      "Total execution time:\t\t9.540 sec.\n",
      "Number of executed Spark inst:\t2.\n",
      "\n",
      "\n",
      "                                                                                \n",
      "SystemML Statistics:\n",
      "Total execution time:\t\t0.006 sec.\n",
      "Number of executed Spark inst:\t0.\n",
      "\n",
      "SystemML Statistics:\n",
      "Total execution time:\t\t0.012 sec.\n",
      "Number of executed Spark inst:\t0.\n",
      "\n",
      "\n",
      "LogisticRegression score: 0.927778\n"
     ]
    },
    {
     "name": "stderr",
     "output_type": "stream",
     "text": [
      "D:\\download\\anaconda\\envs\\py2\\lib\\site-packages\\sklearn\\preprocessing\\label.py:273: DataConversionWarning: A column-vector y was passed when a 1d array was expected. Please change the shape of y to (n_samples, ), for example using ravel().\n",
      "  y = column_or_1d(y, warn=True)\n"
     ]
    }
   ],
   "source": [
    "#初始化参数\n",
    "sqlCtx = SQLContext(sc)\n",
    "digits = datasets.load_digits()\n",
    "x_digits = digits.data\n",
    "y_digits = digits.target + 1\n",
    "n_samples = len(x_digits)\n",
    "\n",
    "#选取90%的样本数据作为训练集\n",
    "#此处由于numpy不支持浮点作为数组下标，需要强制转换为int\n",
    "x_train = x_digits[:int(.9 * n_samples)]\n",
    "y_train = y_digits[:int(.9 * n_samples)]\n",
    "\n",
    "#选取后10%的样本数据作为测试集\n",
    "x_test = x_digits[int(.9 * n_samples):]\n",
    "y_test = y_digits[int(.9 * n_samples):]\n",
    "\n",
    "#一行代码完成参数训练和输出监督学习的准确度\n",
    "logistic = LogisticRegression(sqlCtx)\n",
    "print('LogisticRegression score: %f' % logistic.fit(x_train,y_train).score(x_test, y_test))"
   ]
  },
  {
   "cell_type": "code",
   "execution_count": null,
   "metadata": {},
   "outputs": [],
   "source": []
  },
  {
   "cell_type": "code",
   "execution_count": null,
   "metadata": {},
   "outputs": [],
   "source": []
  },
  {
   "cell_type": "code",
   "execution_count": null,
   "metadata": {},
   "outputs": [],
   "source": []
  },
  {
   "cell_type": "code",
   "execution_count": null,
   "metadata": {},
   "outputs": [],
   "source": []
  },
  {
   "cell_type": "code",
   "execution_count": null,
   "metadata": {},
   "outputs": [],
   "source": [
    "logistic = LogisticRegression(spark, fit_intercept = True, max_iter = 100, max_inner_iter = 0, tol = 0.000001, c = 1.0)\n",
    "\n",
    "y_test = logistic.fit(x_train, y_train).predict(X_test)\n",
    "\n",
    "y_test = logistic.fit(df_train).transform(df_test)a"
   ]
  },
  {
   "cell_type": "markdown",
   "metadata": {},
   "source": [
    "### 1.2 Multi-Class Support Vector Machines 多类支持向量机"
   ]
  },
  {
   "cell_type": "code",
   "execution_count": null,
   "metadata": {},
   "outputs": [],
   "source": []
  },
  {
   "cell_type": "code",
   "execution_count": null,
   "metadata": {},
   "outputs": [],
   "source": []
  },
  {
   "cell_type": "code",
   "execution_count": null,
   "metadata": {},
   "outputs": [],
   "source": []
  },
  {
   "cell_type": "code",
   "execution_count": null,
   "metadata": {},
   "outputs": [],
   "source": []
  },
  {
   "cell_type": "markdown",
   "metadata": {},
   "source": [
    "### 1.3 Naive Bayes 朴素贝叶斯"
   ]
  },
  {
   "cell_type": "code",
   "execution_count": null,
   "metadata": {},
   "outputs": [],
   "source": []
  },
  {
   "cell_type": "code",
   "execution_count": null,
   "metadata": {},
   "outputs": [],
   "source": []
  },
  {
   "cell_type": "code",
   "execution_count": null,
   "metadata": {},
   "outputs": [],
   "source": []
  },
  {
   "cell_type": "markdown",
   "metadata": {},
   "source": [
    "### 1.4 Decision Tree 决策树（目前只有hadoop和spark实现）"
   ]
  },
  {
   "cell_type": "markdown",
   "metadata": {},
   "source": [
    "### 1.5 Random Forests 随机森林（目前只有hadoop和spark实现）"
   ]
  },
  {
   "cell_type": "code",
   "execution_count": null,
   "metadata": {},
   "outputs": [],
   "source": []
  },
  {
   "cell_type": "markdown",
   "metadata": {},
   "source": [
    "## 2. Clustering 聚类"
   ]
  },
  {
   "cell_type": "markdown",
   "metadata": {},
   "source": [
    "### K-Means Clustering （目前只有hadoop和spark实现）"
   ]
  },
  {
   "cell_type": "code",
   "execution_count": null,
   "metadata": {},
   "outputs": [],
   "source": []
  },
  {
   "cell_type": "markdown",
   "metadata": {},
   "source": [
    "## 3. Regression 回归"
   ]
  },
  {
   "cell_type": "markdown",
   "metadata": {},
   "source": [
    "### 3.1 Linear Regression 线性回归"
   ]
  },
  {
   "cell_type": "code",
   "execution_count": null,
   "metadata": {},
   "outputs": [],
   "source": []
  },
  {
   "cell_type": "code",
   "execution_count": null,
   "metadata": {},
   "outputs": [],
   "source": []
  },
  {
   "cell_type": "markdown",
   "metadata": {},
   "source": [
    "### 3.2 Stepwise Linear Regression 逐步线性回归（目前只有hadoop和spark实现）"
   ]
  },
  {
   "cell_type": "markdown",
   "metadata": {},
   "source": [
    "### 3.3 Generalized Linear Models 广义线性模型（目前只有hadoop和spark实现）"
   ]
  },
  {
   "cell_type": "markdown",
   "metadata": {},
   "source": [
    "### 3.4 Stepwise Generalized Linear Models 逐步广义线性模型（目前只有hadoop和spark实现）"
   ]
  },
  {
   "cell_type": "code",
   "execution_count": null,
   "metadata": {},
   "outputs": [],
   "source": []
  },
  {
   "cell_type": "markdown",
   "metadata": {},
   "source": [
    "## 4. Matrix Factorization 矩阵分解"
   ]
  },
  {
   "cell_type": "markdown",
   "metadata": {},
   "source": [
    "### 4.1 Principal Component Analysis（PCA）  主成分分析（目前只有hadoop和spark实现）"
   ]
  },
  {
   "cell_type": "markdown",
   "metadata": {},
   "source": [
    "### 4.2 Matrix Completion via Alternating Minimizations 交替最小化法（目前只有hadoop和spark实现）"
   ]
  },
  {
   "cell_type": "code",
   "execution_count": null,
   "metadata": {},
   "outputs": [],
   "source": []
  }
 ],
 "metadata": {
  "kernelspec": {
   "display_name": "Python 2",
   "language": "python",
   "name": "python2"
  },
  "language_info": {
   "codemirror_mode": {
    "name": "ipython",
    "version": 2
   },
   "file_extension": ".py",
   "mimetype": "text/x-python",
   "name": "python",
   "nbconvert_exporter": "python",
   "pygments_lexer": "ipython2",
   "version": "2.7.15"
  }
 },
 "nbformat": 4,
 "nbformat_minor": 2
}
