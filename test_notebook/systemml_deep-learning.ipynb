{
 "cells": [
  {
   "cell_type": "markdown",
   "metadata": {},
   "source": [
    "# Systemml Deep-learning Test\n",
    "### (only support python2)"
   ]
  },
  {
   "cell_type": "code",
   "execution_count": 1,
   "metadata": {},
   "outputs": [],
   "source": [
    "from systemml.mllearn import Caffe2DML\n",
    "import urllib"
   ]
  },
  {
   "cell_type": "code",
   "execution_count": 2,
   "metadata": {},
   "outputs": [
    {
     "name": "stdout",
     "output_type": "stream",
     "text": [
      "[Stage 0:>                                                          (0 + 1) / 1]\n",
      "+-----+---------------+--------------+------------+---------+-----------+---------+--------------------+\n",
      "| Name|           Type|        Output|      Weight|     Bias|        Top|   Bottom|Memory* (train/test)|\n",
      "+-----+---------------+--------------+------------+---------+-----------+---------+--------------------+\n",
      "|mnist|           Data| (, 1, 28, 28)|            |         |mnist,mnist|         |                 1/0|\n",
      "|conv1|    Convolution|(, 32, 28, 28)|   [32 X 25]| [32 X 1]|      conv1|    mnist|               25/13|\n",
      "|relu1|           ReLU|(, 32, 28, 28)|            |         |      relu1|    conv1|               37/25|\n",
      "|pool1|        Pooling|(, 32, 14, 14)|            |         |      pool1|    relu1|               18/15|\n",
      "|conv2|    Convolution|(, 64, 14, 14)|  [64 X 800]| [64 X 1]|      conv2|    pool1|               41/10|\n",
      "|relu2|           ReLU|(, 64, 14, 14)|            |         |      relu2|    conv2|               18/12|\n",
      "|pool2|        Pooling|  (, 64, 7, 7)|            |         |      pool2|    relu2|                 9/8|\n",
      "|  ip1|   InnerProduct| (, 512, 1, 1)|[3136 X 512]|[1 X 512]|        ip1|    pool2|              799/14|\n",
      "|relu3|           ReLU| (, 512, 1, 1)|            |         |      relu3|      ip1|                 1/1|\n",
      "|drop1|        Dropout| (, 512, 1, 1)|            |         |      drop1|    relu3|                 1/1|\n",
      "|  ip2|   InnerProduct|  (, 10, 1, 1)|  [512 X 10]| [1 X 10]|        ip2|    drop1|                 3/0|\n",
      "| loss|SoftmaxWithLoss|  (, 10, 1, 1)|            |         |       loss|ip2,mnist|                 0/0|\n",
      "+-----+---------------+--------------+------------+---------+-----------+---------+--------------------+\n",
      "\n",
      "* => memory in megabytes assuming the parameters (input, output activations, weights and backpropagation errors) are in double precision and in dense format.\n",
      "                                                                                \n",
      "\n"
     ]
    }
   ],
   "source": [
    "# Download the Lenet network\n",
    "urllib.urlretrieve('https://raw.githubusercontent.com/apache/systemml/master/scripts/nn/examples/caffe2dml/models/mnist_lenet/lenet.proto', 'lenet.proto')\n",
    "urllib.urlretrieve('https://raw.githubusercontent.com/apache/systemml/master/scripts/nn/examples/caffe2dml/models/mnist_lenet/lenet_solver.proto', 'lenet_solver.proto')\n",
    "# Train Lenet On MNIST using scikit-learn like API\n",
    "\n",
    "# MNIST dataset contains 28 X 28 gray-scale (number of channel=1).\n",
    "lenet = Caffe2DML(spark, solver='lenet_solver.proto', input_shape=(1, 28, 28))\n",
    "lenet.setGPU(True)\n",
    "lenet.setStatistics(True)\n",
    "lenet.summary()"
   ]
  }
 ],
 "metadata": {
  "kernelspec": {
   "display_name": "Python 2",
   "language": "python",
   "name": "python2"
  },
  "language_info": {
   "codemirror_mode": {
    "name": "ipython",
    "version": 2
   },
   "file_extension": ".py",
   "mimetype": "text/x-python",
   "name": "python",
   "nbconvert_exporter": "python",
   "pygments_lexer": "ipython2",
   "version": "2.7.15"
  }
 },
 "nbformat": 4,
 "nbformat_minor": 2
}
