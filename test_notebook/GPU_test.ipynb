{
 "cells": [
  {
   "cell_type": "markdown",
   "metadata": {},
   "source": [
    "# Systemml GPU Test \n",
    "(for python2 and python3)"
   ]
  },
  {
   "cell_type": "code",
   "execution_count": 4,
   "metadata": {},
   "outputs": [],
   "source": [
    "from systemml import MLContext, dml, dmlFromResource, dmlFromFile, dmlFromUrl\n",
    "ml = MLContext(spark)"
   ]
  },
  {
   "cell_type": "code",
   "execution_count": 6,
   "metadata": {},
   "outputs": [
    {
     "name": "stdout",
     "output_type": "stream",
     "text": [
      "ANTLR Tool version 4.5.3 used for code generation does not match the current runtime version 4.7ANTLR Runtime version 4.5.3 used for parser compilation does not match the current runtime version 4.7ANTLR Tool version 4.5.3 used for code generation does not match the current runtime version 4.7ANTLR Runtime version 4.5.3 used for parser compilation does not match the current runtime version 4.7\n",
      "hello world\n",
      "SystemML Statistics:\n",
      "Total elapsed time:\t\t2.807 sec.\n",
      "Total compilation time:\t\t2.797 sec.\n",
      "Total execution time:\t\t0.010 sec.\n",
      "Number of compiled Spark inst:\t0.\n",
      "Number of executed Spark inst:\t0.\n",
      "CUDA/CuLibraries init time:\t0.000/0.000 sec.\n",
      "Number of executed GPU inst:\t0.\n",
      "GPU mem alloc time  (alloc(success/fail) / dealloc / set0):\t0.000(0.000/0.000) / 0.000 / 0.000 sec.\n",
      "GPU mem alloc count (alloc(success/fail/reuse) / dealloc / set0):\t0(0/0/0) / 0 / 0.\n",
      "GPU mem tx time  (toDev(d2f/s2d) / fromDev(f2d/s2h) / evict(d2s/size)):\t0.000(0.000/0.000) / 0.000(0.000/0.000) / 0.000(0.000/0.000) sec.\n",
      "GPU mem tx count (toDev(d2f/s2d) / fromDev(f2d/s2h) / evict(d2s/size)):\t0(0/0) / 0(0/0) / 0(0/0).\n",
      "GPU conversion time  (sparseConv / sp2dense / dense2sp):\t0.000 / 0.000 / 0.000 sec.\n",
      "GPU conversion count (sparseConv / sp2dense / dense2sp):\t0 / 0 / 0.\n",
      "Cache hits (Mem, WB, FS, HDFS):\t0/0/0/0.\n",
      "Cache writes (WB, FS, HDFS):\t0/0/0.\n",
      "Cache times (ACQr/m, RLS, EXP):\t0.000/0.000/0.000/0.000 sec.\n",
      "HOP DAGs recompiled (PRED, SB):\t0/0.\n",
      "HOP DAGs recompile time:\t0.000 sec.\n",
      "Spark ctx create time (lazy):\t0.000 sec.\n",
      "Spark trans counts (par,bc,col):0/0/0.\n",
      "Spark trans times (par,bc,col):\t0.000/0.000/0.000 secs.\n",
      "Total JIT compile time:\t\t7.875 sec.\n",
      "Total JVM GC count:\t\t16.\n",
      "Total JVM GC time:\t\t0.297 sec.\n",
      "Heavy hitter instructions:\n",
      " #  Instruction  Time(s)  Count\n",
      " 1  print          0.002      1\n",
      " 2  rmvar          0.001      1\n",
      "\n",
      "\n"
     ]
    },
    {
     "data": {
      "text/plain": [
       "MLResults"
      ]
     },
     "execution_count": 6,
     "metadata": {},
     "output_type": "execute_result"
    }
   ],
   "source": [
    "ml.setGPU(True)\n",
    "ml.setStatistics(True)\n",
    "helloScript = dml(\"print('hello world')\")\n",
    "ml.execute(helloScript)"
   ]
  },
  {
   "cell_type": "code",
   "execution_count": 12,
   "metadata": {},
   "outputs": [
    {
     "name": "stdout",
     "output_type": "stream",
     "text": [
      "SystemML Statistics:\n",
      "Total elapsed time:\t\t0.551 sec.\n",
      "Total compilation time:\t\t0.021 sec.\n",
      "Total execution time:\t\t0.530 sec.\n",
      "Number of compiled Spark inst:\t0.\n",
      "Number of executed Spark inst:\t0.\n",
      "CUDA/CuLibraries init time:\t0.000/0.000 sec.\n",
      "Number of executed GPU inst:\t1.\n",
      "GPU mem alloc time  (alloc(success/fail) / dealloc / set0):\t0.004(0.004/0.000) / 0.000 / 0.005 sec.\n",
      "GPU mem alloc count (alloc(success/fail/reuse) / dealloc / set0):\t2(2/0/0) / 0 / 2.\n",
      "GPU mem tx time  (toDev(d2f/s2d) / fromDev(f2d/s2h) / evict(d2s/size)):\t0.310(0.000/0.000) / 0.000(0.000/0.000) / 0.000(0.000/0.000) sec.\n",
      "GPU mem tx count (toDev(d2f/s2d) / fromDev(f2d/s2h) / evict(d2s/size)):\t1(0/0) / 0(0/0) / 0(0/0).\n",
      "GPU conversion time  (sparseConv / sp2dense / dense2sp):\t0.000 / 0.000 / 0.000 sec.\n",
      "GPU conversion count (sparseConv / sp2dense / dense2sp):\t0 / 0 / 0.\n",
      "Cache hits (Mem, WB, FS, HDFS):\t1/0/0/0.\n",
      "Cache writes (WB, FS, HDFS):\t0/0/0.\n",
      "Cache times (ACQr/m, RLS, EXP):\t0.000/0.000/0.000/0.000 sec.\n",
      "HOP DAGs recompiled (PRED, SB):\t0/0.\n",
      "HOP DAGs recompile time:\t0.000 sec.\n",
      "Spark ctx create time (lazy):\t0.000 sec.\n",
      "Spark trans counts (par,bc,col):0/0/0.\n",
      "Spark trans times (par,bc,col):\t0.000/0.000/0.000 secs.\n",
      "Total JIT compile time:\t\t8.787 sec.\n",
      "Total JVM GC count:\t\t22.\n",
      "Total JVM GC time:\t\t0.388 sec.\n",
      "Heavy hitter instructions:\n",
      " #  Instruction  Time(s)  Count\n",
      " 1  gpu_uak+       0.313      1\n",
      " 2  sinit          0.000      1\n",
      " 3  rmvar          0.000      1\n",
      " 4  createvar      0.000      1\n",
      " 5  mvvar          0.000      1\n",
      " 6  cpvar          0.000      1\n",
      "\r\n",
      "\n"
     ]
    }
   ],
   "source": [
    "s = \"\"\"\n",
    "m = matrix(\"11 22 33 44\", rows=2, cols=2)\n",
    "n = sum(m)\n",
    "\"\"\"\n",
    "scr = dml(s).output(\"m\", \"n\");\n",
    "res = ml.execute(scr)\n"
   ]
  },
  {
   "cell_type": "code",
   "execution_count": 14,
   "metadata": {},
   "outputs": [
    {
     "name": "stdout",
     "output_type": "stream",
     "text": [
      "251.531 249.329 257.321 246.310 250.771 257.820 246.868 247.156 251.182 245.247\n",
      "260.726 256.254 257.722 251.762 255.247 261.319 250.111 253.740 252.635 253.671\n",
      "246.668 243.968 241.544 239.769 238.908 252.875 239.426 238.542 244.779 243.505\n",
      "254.177 249.013 252.988 244.105 249.171 256.035 242.574 246.034 252.966 250.280\n",
      "268.753 259.982 265.632 258.547 258.544 269.046 259.297 255.420 261.761 258.395\n",
      "256.764 251.867 250.332 248.478 245.300 258.441 243.678 247.734 247.847 245.186\n",
      "251.301 242.940 249.316 240.927 245.016 255.254 243.863 240.762 244.070 238.175\n",
      "262.821 258.048 255.211 249.948 257.142 267.515 250.820 253.097 257.908 255.732\n",
      "254.982 250.543 250.308 240.372 247.849 247.763 239.448 246.433 250.908 247.408\n",
      "263.189 251.915 258.703 250.029 254.404 263.410 242.796 250.343 253.808 250.261\n",
      "\r\n",
      "SystemML Statistics:\n",
      "Total elapsed time:\t\t0.580 sec.\n",
      "Total compilation time:\t\t0.090 sec.\n",
      "Total execution time:\t\t0.490 sec.\n",
      "Number of compiled Spark inst:\t0.\n",
      "Number of executed Spark inst:\t0.\n",
      "CUDA/CuLibraries init time:\t0.000/0.000 sec.\n",
      "Number of executed GPU inst:\t1.\n",
      "GPU mem alloc time  (alloc(success/fail) / dealloc / set0):\t0.002(0.002/0.000) / 0.000 / 0.005 sec.\n",
      "GPU mem alloc count (alloc(success/fail/reuse) / dealloc / set0):\t3(3/0/0) / 1 / 3.\n",
      "GPU mem tx time  (toDev(d2f/s2d) / fromDev(f2d/s2h) / evict(d2s/size)):\t0.225(0.000/0.000) / 0.002(0.000/0.000) / 0.000(0.000/0.000) sec.\n",
      "GPU mem tx count (toDev(d2f/s2d) / fromDev(f2d/s2h) / evict(d2s/size)):\t2(0/0) / 3(0/0) / 0(0/0).\n",
      "GPU conversion time  (sparseConv / sp2dense / dense2sp):\t0.000 / 0.000 / 0.000 sec.\n",
      "GPU conversion count (sparseConv / sp2dense / dense2sp):\t0 / 0 / 0.\n",
      "Cache hits (Mem, WB, FS, HDFS):\t3/0/0/0.\n",
      "Cache writes (WB, FS, HDFS):\t2/0/0.\n",
      "Cache times (ACQr/m, RLS, EXP):\t0.002/0.000/0.002/0.000 sec.\n",
      "HOP DAGs recompiled (PRED, SB):\t0/0.\n",
      "HOP DAGs recompile time:\t0.000 sec.\n",
      "Spark ctx create time (lazy):\t0.000 sec.\n",
      "Spark trans counts (par,bc,col):0/0/0.\n",
      "Spark trans times (par,bc,col):\t0.000/0.000/0.000 secs.\n",
      "Total JIT compile time:\t\t4.083 sec.\n",
      "Total JVM GC count:\t\t22.\n",
      "Total JVM GC time:\t\t0.388 sec.\n",
      "Heavy hitter instructions:\n",
      " #  Instruction  Time(s)  Count\n",
      " 1  gpu_ba+*       0.234      1\n",
      " 2  rand           0.036      2\n",
      " 3  toString       0.008      1\n",
      " 4  rmvar          0.000      3\n",
      " 5  createvar      0.000      3\n",
      " 6  print          0.000      1\n",
      "\r\n",
      "\n"
     ]
    },
    {
     "data": {
      "text/plain": [
       "MLResults"
      ]
     },
     "execution_count": 14,
     "metadata": {},
     "output_type": "execute_result"
    }
   ],
   "source": [
    "ml.setGPU(True)\n",
    "ml.setStatistics(True)\n",
    "matMultScript = dml(\"\"\"\n",
    "A = rand(rows=10, cols=1000)\n",
    "B = rand(rows=1000, cols=10)\n",
    "C = A %*% B\n",
    "print(toString(C))\n",
    "\"\"\")\n",
    "ml.execute(matMultScript)"
   ]
  },
  {
   "cell_type": "code",
   "execution_count": 15,
   "metadata": {},
   "outputs": [
    {
     "name": "stdout",
     "output_type": "stream",
     "text": [
      "234.099 237.705 241.868 246.922 251.174 246.415 253.405 248.840 242.939 247.421\n",
      "236.420 238.956 246.263 251.850 251.182 248.429 258.386 250.373 244.168 249.719\n",
      "239.783 246.205 239.912 254.603 260.940 250.045 262.001 255.707 246.428 254.462\n",
      "248.424 253.906 254.311 266.999 261.700 255.904 266.977 261.739 257.285 257.985\n",
      "226.664 233.100 235.759 248.170 245.924 242.477 253.811 247.195 240.754 246.443\n",
      "241.266 245.386 249.248 260.770 257.196 255.617 263.471 254.414 249.410 257.996\n",
      "243.293 241.974 240.951 254.385 253.815 254.559 256.873 256.150 249.746 250.439\n",
      "237.447 238.143 237.337 244.664 248.676 248.672 254.489 244.917 241.060 243.489\n",
      "243.952 242.921 243.187 259.043 254.265 257.250 264.984 254.520 249.193 252.604\n",
      "238.403 246.920 253.098 254.973 259.200 255.761 262.190 253.754 250.507 259.196\n",
      "\r\n",
      "SystemML Statistics:\n",
      "Total elapsed time:\t\t0.073 sec.\n",
      "Total compilation time:\t\t0.023 sec.\n",
      "Total execution time:\t\t0.050 sec.\n",
      "Number of compiled Spark inst:\t0.\n",
      "Number of executed Spark inst:\t0.\n",
      "Cache hits (Mem, WB, FS, HDFS):\t3/0/0/0.\n",
      "Cache writes (WB, FS, HDFS):\t2/0/0.\n",
      "Cache times (ACQr/m, RLS, EXP):\t0.000/0.000/0.000/0.000 sec.\n",
      "HOP DAGs recompiled (PRED, SB):\t0/0.\n",
      "HOP DAGs recompile time:\t0.000 sec.\n",
      "Spark ctx create time (lazy):\t0.000 sec.\n",
      "Spark trans counts (par,bc,col):0/0/0.\n",
      "Spark trans times (par,bc,col):\t0.000/0.000/0.000 secs.\n",
      "Total JIT compile time:\t\t11.267 sec.\n",
      "Total JVM GC count:\t\t22.\n",
      "Total JVM GC time:\t\t0.388 sec.\n",
      "Heavy hitter instructions:\n",
      " #  Instruction  Time(s)  Count\n",
      " 1  ba+*           0.041      1\n",
      " 2  toString       0.005      1\n",
      " 3  rand           0.004      2\n",
      " 4  rmvar          0.000      3\n",
      " 5  createvar      0.000      3\n",
      " 6  print          0.000      1\n",
      "\r\n",
      "\n"
     ]
    },
    {
     "data": {
      "text/plain": [
       "MLResults"
      ]
     },
     "execution_count": 15,
     "metadata": {},
     "output_type": "execute_result"
    }
   ],
   "source": [
    "ml.setGPU(False)\n",
    "ml.setStatistics(True)\n",
    "matMultScript = dml(\"\"\"\n",
    "A = rand(rows=10, cols=1000)\n",
    "B = rand(rows=1000, cols=10)\n",
    "C = A %*% B\n",
    "print(toString(C))\n",
    "\"\"\")\n",
    "ml.execute(matMultScript)"
   ]
  }
 ],
 "metadata": {
  "kernelspec": {
   "display_name": "Python 3",
   "language": "python",
   "name": "python3"
  },
  "language_info": {
   "codemirror_mode": {
    "name": "ipython",
    "version": 3
   },
   "file_extension": ".py",
   "mimetype": "text/x-python",
   "name": "python",
   "nbconvert_exporter": "python",
   "pygments_lexer": "ipython3",
   "version": "3.7.1"
  }
 },
 "nbformat": 4,
 "nbformat_minor": 2
}
